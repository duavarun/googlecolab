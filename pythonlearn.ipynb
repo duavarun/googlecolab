{
  "nbformat": 4,
  "nbformat_minor": 0,
  "metadata": {
    "colab": {
      "provenance": [],
      "authorship_tag": "ABX9TyPpa2MWeIsFD57uV/hGv7WL",
      "include_colab_link": true
    },
    "kernelspec": {
      "name": "python3",
      "display_name": "Python 3"
    },
    "language_info": {
      "name": "python"
    }
  },
  "cells": [
    {
      "cell_type": "markdown",
      "metadata": {
        "id": "view-in-github",
        "colab_type": "text"
      },
      "source": [
        "<a href=\"https://colab.research.google.com/github/duavarun/googlecolab/blob/main/pythonlearn.ipynb\" target=\"_parent\"><img src=\"https://colab.research.google.com/assets/colab-badge.svg\" alt=\"Open In Colab\"/></a>"
      ]
    },
    {
      "cell_type": "code",
      "execution_count": null,
      "metadata": {
        "colab": {
          "base_uri": "https://localhost:8080/"
        },
        "id": "aXHzZlkk0l--",
        "outputId": "e85f734d-9fee-43eb-aa2e-a02243e60043"
      },
      "outputs": [
        {
          "output_type": "stream",
          "name": "stdout",
          "text": [
            "Hello world\n",
            "3.10.11 (main, Apr  5 2023, 14:15:10) [GCC 9.4.0]\n"
          ]
        }
      ],
      "source": [
        "print(\"Hello world\")\n",
        "import sys\n",
        "print(sys.version)"
      ]
    },
    {
      "cell_type": "code",
      "source": [
        "a = '''varun'''\n",
        "print (a)"
      ],
      "metadata": {
        "colab": {
          "base_uri": "https://localhost:8080/"
        },
        "id": "cRQnATSa3rC6",
        "outputId": "21afc7f5-7671-450f-d8f9-30a54603a830"
      },
      "execution_count": null,
      "outputs": [
        {
          "output_type": "stream",
          "name": "stdout",
          "text": [
            "varun\n"
          ]
        }
      ]
    },
    {
      "cell_type": "code",
      "source": [
        "a = \"birthdAy\"\n",
        "c = a.lower()\n",
        "b = a.upper()\n",
        "d = a.capitalize()\n",
        "print (a, b ,c ,d)"
      ],
      "metadata": {
        "colab": {
          "base_uri": "https://localhost:8080/"
        },
        "id": "g0siLD605LiO",
        "outputId": "3dc86c28-ca28-4802-9166-7201b40f951d"
      },
      "execution_count": null,
      "outputs": [
        {
          "output_type": "stream",
          "name": "stdout",
          "text": [
            "birthdAy BIRTHDAY birthday Birthday\n"
          ]
        }
      ]
    },
    {
      "cell_type": "code",
      "source": [
        "x = int(input (\"enter the number: \"))\n",
        "x += 1\n",
        "print (x)\n"
      ],
      "metadata": {
        "colab": {
          "base_uri": "https://localhost:8080/"
        },
        "id": "CQWa_6PDU_el",
        "outputId": "81226efc-6a42-4ab5-fde7-e84cf6fc7270"
      },
      "execution_count": null,
      "outputs": [
        {
          "output_type": "stream",
          "name": "stdout",
          "text": [
            "enter the number: 100\n",
            "101\n"
          ]
        }
      ]
    },
    {
      "cell_type": "code",
      "source": [
        "x = float(input (\"Enter float number: \"))\n",
        "x += 1\n",
        "print (x)"
      ],
      "metadata": {
        "colab": {
          "base_uri": "https://localhost:8080/"
        },
        "id": "j9x07-G8Xb6Y",
        "outputId": "cb13481e-2258-4098-86a6-419d5ede35dd"
      },
      "execution_count": null,
      "outputs": [
        {
          "output_type": "stream",
          "name": "stdout",
          "text": [
            "Enter float number: 10.1\n",
            "11.1\n"
          ]
        }
      ]
    },
    {
      "cell_type": "code",
      "source": [
        "#list\n",
        "cars = [10, 14.5, \"tata\", \"benz\"]\n",
        "print(type(cars))\n",
        "list2= [2, 1, \"audi\"]\n",
        "\n",
        "cars.extend(list2)\n",
        "print(cars)\n",
        "print(cars.index(1))\n",
        "for items in cars:\n",
        "  list2.append(items)\n",
        "print(list2)"
      ],
      "metadata": {
        "id": "iZdDM1UqPpZX",
        "outputId": "16ded2d6-8500-4eee-ab8d-7ed01420c6d3",
        "colab": {
          "base_uri": "https://localhost:8080/"
        }
      },
      "execution_count": null,
      "outputs": [
        {
          "output_type": "stream",
          "name": "stdout",
          "text": [
            "<class 'list'>\n",
            "[10, 14.5, 'tata', 'benz', 2, 1, 'audi']\n",
            "5\n",
            "[2, 1, 'audi', 10, 14.5, 'tata', 'benz', 2, 1, 'audi']\n"
          ]
        }
      ]
    },
    {
      "cell_type": "code",
      "source": [
        "#dictionary\n",
        "dict1 = {1:11,2:22}\n",
        "print(dict1)\n",
        "print(type(dict1))\n",
        "print(dict1.items())\n",
        "print(dict1.keys())\n",
        "print(dict1.values())\n",
        "\n",
        "\n",
        "dict1.setdefault(222, 111)\n",
        "\n",
        "print()\n",
        "print(dict1)\n"
      ],
      "metadata": {
        "id": "augupQEEUuS_",
        "outputId": "26aef63e-05d3-438c-bc56-3f466728ac86",
        "colab": {
          "base_uri": "https://localhost:8080/"
        }
      },
      "execution_count": null,
      "outputs": [
        {
          "output_type": "stream",
          "name": "stdout",
          "text": [
            "{1: 11, 2: 22}\n",
            "<class 'dict'>\n",
            "dict_items([(1, 11), (2, 22)])\n",
            "dict_keys([1, 2])\n",
            "dict_values([11, 22])\n",
            "\n",
            "{1: 11, 2: 22, 222: 111}\n"
          ]
        }
      ]
    },
    {
      "cell_type": "code",
      "source": [
        "#List comprehensive\n",
        "test1 = [\"aa\", \"ab\", \"c\"]\n",
        "test2 = []\n",
        "\n",
        "test2 = [item for item in test1 if \"a\" in item]\n",
        "print(test2)"
      ],
      "metadata": {
        "id": "MUEe8qS3ZqJe",
        "outputId": "0341b07f-5841-4694-d9cd-d5a5ef1bfe27",
        "colab": {
          "base_uri": "https://localhost:8080/"
        }
      },
      "execution_count": null,
      "outputs": [
        {
          "output_type": "stream",
          "name": "stdout",
          "text": [
            "['aa', 'ab']\n"
          ]
        }
      ]
    },
    {
      "cell_type": "code",
      "source": [
        "#List comprehensive\n",
        "test1 = [\"aa\", \"ab\", \"c\"]\n",
        "test2 = []\n",
        "\n",
        "test2 = [item.upper() for item in test1]\n",
        "print(test2)"
      ],
      "metadata": {
        "id": "0qXf7F0Haw7W",
        "outputId": "c4e6adde-bfdf-491d-858d-a0f73d6ad74c",
        "colab": {
          "base_uri": "https://localhost:8080/"
        }
      },
      "execution_count": null,
      "outputs": [
        {
          "output_type": "stream",
          "name": "stdout",
          "text": [
            "['AA', 'AB', 'C']\n"
          ]
        }
      ]
    },
    {
      "cell_type": "code",
      "source": [
        "from math import exp\n",
        "help(exp)\n",
        "print(exp(1))"
      ],
      "metadata": {
        "id": "Bb31KNXeeiVt",
        "outputId": "db5d7446-9571-4de9-b1de-52cc54ea82b6",
        "colab": {
          "base_uri": "https://localhost:8080/"
        }
      },
      "execution_count": null,
      "outputs": [
        {
          "output_type": "stream",
          "name": "stdout",
          "text": [
            "Help on built-in function exp in module math:\n",
            "\n",
            "exp(x, /)\n",
            "    Return e raised to the power of x.\n",
            "\n",
            "2.718281828459045\n"
          ]
        }
      ]
    },
    {
      "cell_type": "code",
      "source": [
        "class employee:\n",
        "  def __init__(self,first,last,pay):\n",
        "    self.first = first\n",
        "    self.last = last\n",
        "    self.pay = pay\n",
        "    self.email = (first + '.' + last + '@' + 'gmail.com')\n",
        "\n",
        "\n",
        "\n",
        "  def apply_raise(self):\n",
        "    self.pay = int(self.pay * self.raise_amt)\n",
        "  \n",
        "  @classmethod\n",
        "  def set_rasie_amt(cls,raise_amt):\n",
        "    cls.raise_amt = raise_amt\n",
        "  \n",
        "  @classmethod\n",
        "  def from_string(cls,emp_str):\n",
        "    first,last,pay = emp_str.split(',')\n",
        "    return cls(first,last,pay)\n",
        "\n",
        "  @staticmethod\n",
        "  def is_workday(day):\n",
        "    if day.weekday() ==5 or day.weekday() == 6:\n",
        "      return false\n",
        "    return true"
      ],
      "metadata": {
        "id": "qhBt-wIurBBS"
      },
      "execution_count": 6,
      "outputs": []
    },
    {
      "cell_type": "code",
      "source": [
        "emp_string_1='a,b,5000'"
      ],
      "metadata": {
        "id": "NTrl1uBTsq56"
      },
      "execution_count": 5,
      "outputs": []
    },
    {
      "cell_type": "code",
      "source": [
        "import datetime\n",
        "my_date = datetime.date.today()\n",
        "print(my_date)\n",
        "\n",
        "employee.is_workday(d)"
      ],
      "metadata": {
        "id": "u2nmrxF5v23m",
        "outputId": "b87e0dbe-d2f1-46ab-dffd-fd620408f9f9",
        "colab": {
          "base_uri": "https://localhost:8080/",
          "height": 357
        }
      },
      "execution_count": 16,
      "outputs": [
        {
          "output_type": "stream",
          "name": "stdout",
          "text": [
            "2023-05-25\n",
            "<class 'str'>\n"
          ]
        },
        {
          "output_type": "error",
          "ename": "AttributeError",
          "evalue": "ignored",
          "traceback": [
            "\u001b[0;31m---------------------------------------------------------------------------\u001b[0m",
            "\u001b[0;31mAttributeError\u001b[0m                            Traceback (most recent call last)",
            "\u001b[0;32m<ipython-input-16-dae7d2aa7d10>\u001b[0m in \u001b[0;36m<cell line: 6>\u001b[0;34m()\u001b[0m\n\u001b[1;32m      4\u001b[0m \u001b[0md\u001b[0m \u001b[0;34m=\u001b[0m \u001b[0mmy_date\u001b[0m\u001b[0;34m.\u001b[0m\u001b[0mstrftime\u001b[0m\u001b[0;34m(\u001b[0m\u001b[0;34m'%d'\u001b[0m\u001b[0;34m)\u001b[0m\u001b[0;34m\u001b[0m\u001b[0;34m\u001b[0m\u001b[0m\n\u001b[1;32m      5\u001b[0m \u001b[0mprint\u001b[0m\u001b[0;34m(\u001b[0m\u001b[0mtype\u001b[0m\u001b[0;34m(\u001b[0m\u001b[0md\u001b[0m\u001b[0;34m)\u001b[0m\u001b[0;34m)\u001b[0m\u001b[0;34m\u001b[0m\u001b[0;34m\u001b[0m\u001b[0m\n\u001b[0;32m----> 6\u001b[0;31m \u001b[0memployee\u001b[0m\u001b[0;34m.\u001b[0m\u001b[0mis_workday\u001b[0m\u001b[0;34m(\u001b[0m\u001b[0md\u001b[0m\u001b[0;34m)\u001b[0m\u001b[0;34m\u001b[0m\u001b[0;34m\u001b[0m\u001b[0m\n\u001b[0m",
            "\u001b[0;32m<ipython-input-6-e26667c5c11e>\u001b[0m in \u001b[0;36mis_workday\u001b[0;34m(day)\u001b[0m\n\u001b[1;32m     22\u001b[0m   \u001b[0;34m@\u001b[0m\u001b[0mstaticmethod\u001b[0m\u001b[0;34m\u001b[0m\u001b[0;34m\u001b[0m\u001b[0m\n\u001b[1;32m     23\u001b[0m   \u001b[0;32mdef\u001b[0m \u001b[0mis_workday\u001b[0m\u001b[0;34m(\u001b[0m\u001b[0mday\u001b[0m\u001b[0;34m)\u001b[0m\u001b[0;34m:\u001b[0m\u001b[0;34m\u001b[0m\u001b[0;34m\u001b[0m\u001b[0m\n\u001b[0;32m---> 24\u001b[0;31m     \u001b[0;32mif\u001b[0m \u001b[0mday\u001b[0m\u001b[0;34m.\u001b[0m\u001b[0mweekday\u001b[0m\u001b[0;34m(\u001b[0m\u001b[0;34m)\u001b[0m \u001b[0;34m==\u001b[0m\u001b[0;36m5\u001b[0m \u001b[0;32mor\u001b[0m \u001b[0mday\u001b[0m\u001b[0;34m.\u001b[0m\u001b[0mweekday\u001b[0m\u001b[0;34m(\u001b[0m\u001b[0;34m)\u001b[0m \u001b[0;34m==\u001b[0m \u001b[0;36m6\u001b[0m\u001b[0;34m:\u001b[0m\u001b[0;34m\u001b[0m\u001b[0;34m\u001b[0m\u001b[0m\n\u001b[0m\u001b[1;32m     25\u001b[0m       \u001b[0;32mreturn\u001b[0m \u001b[0mfalse\u001b[0m\u001b[0;34m\u001b[0m\u001b[0;34m\u001b[0m\u001b[0m\n\u001b[1;32m     26\u001b[0m     \u001b[0;32mreturn\u001b[0m \u001b[0mtrue\u001b[0m\u001b[0;34m\u001b[0m\u001b[0;34m\u001b[0m\u001b[0m\n",
            "\u001b[0;31mAttributeError\u001b[0m: 'str' object has no attribute 'weekday'"
          ]
        }
      ]
    },
    {
      "cell_type": "code",
      "source": [
        "class developer(employee):\n",
        "  pass"
      ],
      "metadata": {
        "id": "FNyYRTAi0sr_"
      },
      "execution_count": 21,
      "outputs": []
    },
    {
      "cell_type": "code",
      "source": [
        "emp_5=employee('a','b',100)"
      ],
      "metadata": {
        "id": "o1P6Hg9A0y5Q"
      },
      "execution_count": 20,
      "outputs": []
    },
    {
      "cell_type": "code",
      "source": [
        "dev_1=developer('c','d',200)\n",
        "dev_1.pay"
      ],
      "metadata": {
        "id": "QUFl5RLJ1EKX",
        "outputId": "e21878dd-f97a-47d9-9d97-b5984095befb",
        "colab": {
          "base_uri": "https://localhost:8080/"
        }
      },
      "execution_count": 22,
      "outputs": [
        {
          "output_type": "execute_result",
          "data": {
            "text/plain": [
              "200"
            ]
          },
          "metadata": {},
          "execution_count": 22
        }
      ]
    }
  ]
}